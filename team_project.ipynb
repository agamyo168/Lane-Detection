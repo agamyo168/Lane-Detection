{
 "cells": [
  {
   "cell_type": "code",
   "execution_count": 1,
   "id": "b4eaeecb",
   "metadata": {},
   "outputs": [],
   "source": [
    "import numpy as np\n",
    "import cv2\n",
    "import matplotlib.pyplot as plt\n",
    "\n",
    "%matplotlib inline"
   ]
  },
  {
   "cell_type": "markdown",
   "id": "0f053902",
   "metadata": {},
   "source": [
    "# Helper Functions"
   ]
  },
  {
   "cell_type": "code",
   "execution_count": 2,
   "id": "a6ed0906",
   "metadata": {},
   "outputs": [],
   "source": [
    "def show_image(image,title=\"image\",cmap_type=\"gray\"):\n",
    "    plt.imshow(image,cmap_type)\n",
    "    plt.title(title)\n",
    "    plt.axis(\"off\")\n",
    "    \n",
    "def gaussian_blur(img,kernel_size):\n",
    "    return cv2.GaussianBlur(img,(kernel_size,kernel_size),#5x5 I guess\n",
    "                  0)\n",
    "def pipeline1(img, s_thresh=(100, 255), sx_thresh=(15, 255)):\n",
    "    img = np.copy(img)\n",
    "    hls = cv2.cvtColor(img, cv2.COLOR_RGB2HLS).astype(np.float)\n",
    "    hsv = cv2.cvtColor(img, cv2.COLOR_RGB2HLS).astype(np.float)\n",
    "    l_channel = hls[:,:,1]\n",
    "    s_channel = hls[:,:,2]\n",
    "    h_channel = hls[:,:,0]\n",
    "    v_channel= hsv[:,:,2]\n",
    "    return l_channel\n",
    "def perspective_transform(srcPoints,dstPoints):\n",
    "    #srcPoints I think they are the region of Interest points\n",
    "    M = cv2.getPerspectiveTransform(srcPoints,dstPoints) #Returns a matrix that transforms an Image\n",
    "    Minv = cv2.getPerspectiveTransform(dstPoints,srcPoints) #inverse\n",
    "    return M,Minv\n",
    "def warpPerspective(img,imgSize,M):\n",
    "    return cv2.warpPerspective(img,M,imgSize,cv2.INTER_LINEAR)\n",
    "# Histogram Equalizer\n",
    "def hist_equalizer(img):\n",
    "    pass"
   ]
  },
  {
   "cell_type": "code",
   "execution_count": null,
   "id": "a15ea66b",
   "metadata": {},
   "outputs": [],
   "source": []
  }
 ],
 "metadata": {
  "kernelspec": {
   "display_name": "Python 3 (ipykernel)",
   "language": "python",
   "name": "python3"
  },
  "language_info": {
   "codemirror_mode": {
    "name": "ipython",
    "version": 3
   },
   "file_extension": ".py",
   "mimetype": "text/x-python",
   "name": "python",
   "nbconvert_exporter": "python",
   "pygments_lexer": "ipython3",
   "version": "3.8.10"
  }
 },
 "nbformat": 4,
 "nbformat_minor": 5
}
