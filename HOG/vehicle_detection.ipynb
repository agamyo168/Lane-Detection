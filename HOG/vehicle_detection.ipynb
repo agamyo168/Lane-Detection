{
 "cells": [
  {
   "cell_type": "code",
   "execution_count": 1,
   "id": "c5e4b1de",
   "metadata": {},
   "outputs": [],
   "source": [
    "import numpy as np\n",
    "import cv2\n",
    "import glob"
   ]
  },
  {
   "cell_type": "markdown",
   "id": "88cb4dbc",
   "metadata": {},
   "source": [
    "#### Loading dataset"
   ]
  },
  {
   "cell_type": "code",
   "execution_count": 2,
   "id": "fadef360",
   "metadata": {},
   "outputs": [
    {
     "name": "stdout",
     "output_type": "stream",
     "text": [
      "Cars loaded: 8792 Non cars loaded: 8968\n"
     ]
    }
   ],
   "source": [
    "cars_dir = [car for car in glob.glob(\"../dataset/vehicles/*/*.png\",recursive=True)]\n",
    "non_car_dir = [non_car for non_car in glob.glob(\"../dataset/non-vehicles/*/*.png\",recursive=True)]\n",
    "print(\"Cars loaded: {} Non cars loaded: {}\".format(len(cars_dir),len(non_car_dir)))"
   ]
  },
  {
   "cell_type": "code",
   "execution_count": null,
   "id": "b20e1679",
   "metadata": {},
   "outputs": [],
   "source": []
  }
 ],
 "metadata": {
  "kernelspec": {
   "display_name": "Python 3 (ipykernel)",
   "language": "python",
   "name": "python3"
  },
  "language_info": {
   "codemirror_mode": {
    "name": "ipython",
    "version": 3
   },
   "file_extension": ".py",
   "mimetype": "text/x-python",
   "name": "python",
   "nbconvert_exporter": "python",
   "pygments_lexer": "ipython3",
   "version": "3.8.10"
  }
 },
 "nbformat": 4,
 "nbformat_minor": 5
}
