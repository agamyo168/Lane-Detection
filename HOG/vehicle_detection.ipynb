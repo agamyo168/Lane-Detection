{
 "cells": [
  {
   "cell_type": "code",
   "execution_count": 1,
   "id": "c5e4b1de",
   "metadata": {},
   "outputs": [],
   "source": [
    "import numpy as np\n",
    "import cv2\n",
    "import glob\n",
    "import matplotlib.pyplot as plt\n",
    "from skimage.feature import hog\n",
    "import time\n",
    "import matplotlib.image as mpimg"
   ]
  },
  {
   "cell_type": "markdown",
   "id": "f61a4c4e",
   "metadata": {},
   "source": [
    "#### Loading dataset"
   ]
  },
  {
   "cell_type": "code",
   "execution_count": 2,
   "id": "64f4bed7",
   "metadata": {},
   "outputs": [
    {
     "name": "stdout",
     "output_type": "stream",
     "text": [
      "Cars loaded: 8792 Non cars loaded: 8968\n"
     ]
    }
   ],
   "source": [
    "cars_dir = [car for car in glob.glob(\"../dataset/vehicles/*/*.png\",recursive=True)]\n",
    "non_car_dir = [non_car for non_car in glob.glob(\"../dataset/non-vehicles/*/*.png\",recursive=True)]\n",
    "print(\"Cars loaded: {} Non cars loaded: {}\".format(len(cars_dir),len(non_car_dir)))"
   ]
  },
  {
   "cell_type": "markdown",
   "id": "7eae3e36",
   "metadata": {},
   "source": [
    "#### Feature Extraction "
   ]
  },
  {
   "cell_type": "code",
   "execution_count": 3,
   "id": "8f7c0408",
   "metadata": {},
   "outputs": [],
   "source": [
    "def bin_spatial(img, size=(32, 32)):\n",
    "    # Use cv2.resize().ravel() to create the feature vector\n",
    "    features = cv2.resize(img, size).ravel() \n",
    "    # Return the feature vector\n",
    "#     print(features.shape)\n",
    "    return features\n",
    "\n",
    "def color_hist(img, nbins=32, bins_range=(0, 256)):\n",
    "    # Compute the histogram of the color channels separately\n",
    "    channel1_hist = np.histogram(img[:,:,0], bins=nbins, range=bins_range)\n",
    "    channel2_hist = np.histogram(img[:,:,1], bins=nbins, range=bins_range)\n",
    "    channel3_hist = np.histogram(img[:,:,2], bins=nbins, range=bins_range)\n",
    "    # Concatenate the histograms into a single feature vector\n",
    "    hist_features = np.concatenate((channel1_hist[0], channel2_hist[0], channel3_hist[0]))\n",
    "#     Seems like a useless step each channel for all images return same result\n",
    "#     plt.hist(channel1_hist,bins=32,range=(0,256))\n",
    "#     plt.hist(channel2_hist,bins=32,range=(0,256))\n",
    "#     plt.hist(channel3_hist,bins=32,range=(0,256))\n",
    "#     print(hist_features.shape)\n",
    "    # Return the individual histograms, bin_centers and feature vector\n",
    "    return hist_features\n",
    "\n",
    "# Return HOG features and visualization\n",
    "# Hog takes only gray images\n",
    "def get_hog_features(img, orient, pix_per_cell, cell_per_block, \n",
    "                        vis=False, feature_vec=True):\n",
    "    # Call with two outputs if vis==True\n",
    "    if vis == True:\n",
    "        features, hog_image = hog(img, orientations=orient, pixels_per_cell=(pix_per_cell, pix_per_cell),\n",
    "                                  cells_per_block=(cell_per_block, cell_per_block), transform_sqrt=True, \n",
    "                                  visualize=vis, feature_vector=feature_vec)\n",
    "        return features, hog_image\n",
    "    # Otherwise call with one output\n",
    "    else:      \n",
    "        features = hog(img, orientations=orient, pixels_per_cell=(pix_per_cell, pix_per_cell),\n",
    "                       cells_per_block=(cell_per_block, cell_per_block), transform_sqrt=True, \n",
    "                       visualize=vis, feature_vector=feature_vec)\n",
    "        return features\n",
    "def convert_rgb_color(img, conv='YCrCb'):\n",
    "    if conv == 'RGB':\n",
    "        return np.copy(img)\n",
    "    if conv == 'YCrCb':\n",
    "        return cv2.cvtColor(img, cv2.COLOR_RGB2YCrCb)\n",
    "    if conv == 'HSV':\n",
    "        return cv2.cvtColor(img, cv2.COLOR_RGB2HSV)\n",
    "    if conv == 'HLS':\n",
    "        return cv2.cvtColor(img, cv2.COLOR_RGB2HLS)\n",
    "    if conv == 'LUV':\n",
    "        return cv2.cvtColor(img, cv2.COLOR_RGB2LUV)\n",
    "    if conv == 'YUV':\n",
    "        return cv2.cvtColor(img, cv2.COLOR_RGB2YUV)\n",
    "    \n",
    "# Extract feature wrapper that extracts and combines all features\n",
    "def extract_features(imgs,params):\n",
    "    cspace= params['color_space']\n",
    "    hog_channel=params['hog_channel']\n",
    "    orient=params['orient']\n",
    "    pix_per_cell= params['pix_per_cell']\n",
    "    cell_per_block=params['cell_per_block']\n",
    "    spatial_size=params['spatial_size']\n",
    "    hist_bins=params['hist_bins']\n",
    "    hist_range=params['hist_range']\n",
    "    # Create a list to append feature vectors to\n",
    "    features = []\n",
    "    # Iterate through the list of images\n",
    "    for file in imgs:\n",
    "        # Read in each one by one\n",
    "        image = mpimg.imread(file)\n",
    "        # apply color conversion if other than 'RGB' \n",
    "        feature_image = convert_rgb_color(image,cspace)\n",
    "        # Call get_hog_features() with vis=False, feature_vec=True\n",
    "        if hog_channel == 'ALL':\n",
    "            hog_features = []\n",
    "            for channel in range(feature_image.shape[2]):\n",
    "                hog_features.append(get_hog_features(feature_image[:,:,channel], \n",
    "                                    orient, pix_per_cell, cell_per_block, \n",
    "                                    vis=False, feature_vec=True))\n",
    "            hog_features = np.ravel(hog_features) #Join all channels hog features into one feature vector        \n",
    "        else:\n",
    "            hog_features = get_hog_features(feature_image[:,:,hog_channel], orient, \n",
    "                        pix_per_cell, cell_per_block, vis=False, feature_vec=True)\n",
    "        \n",
    "        # Apply bin_spatial() to get spatial color features\n",
    "        spatial_features = bin_spatial(feature_image, size=spatial_size)\n",
    "        # Apply color_hist() also with a color space option now\n",
    "        hist_features = color_hist(feature_image, nbins=hist_bins, bins_range=hist_range) # Seems useless (?)\n",
    "        # Append the new feature vector to the features list\n",
    "        features.append(np.concatenate((spatial_features, hist_features,hog_features))) # Add all features into one feature vector\n",
    "        \n",
    "    # Return list of feature vectors\n",
    "    return features"
   ]
  },
  {
   "cell_type": "code",
   "execution_count": 4,
   "id": "eaaad569",
   "metadata": {},
   "outputs": [],
   "source": [
    "## Parameters\n",
    "params={}\n",
    "params['color_space'] ='YCrCb'\n",
    "params['hog_channel'] ='ALL'\n",
    "params['orient'] = 9\n",
    "params['pix_per_cell'] = 8\n",
    "params['cell_per_block'] = 2\n",
    "params['spatial_size'] = (32,32)\n",
    "params['hist_bins'] = 32 \n",
    "params['hist_range'] = (0,256)"
   ]
  },
  {
   "cell_type": "code",
   "execution_count": null,
   "id": "ac1e9c19",
   "metadata": {},
   "outputs": [],
   "source": [
    "t1=time.time()\n",
    "cars_features = extract_features(cars_dir,params)\n",
    "notcars_features = extract_features(non_car_dir,params) \n",
    "t2 = time.time()\n",
    "print(round(t2-t1, 2), 'second to extract features (HOG,spatial and color features).')"
   ]
  },
  {
   "cell_type": "code",
   "execution_count": null,
   "id": "9d06106a",
   "metadata": {},
   "outputs": [],
   "source": []
  }
 ],
 "metadata": {
  "kernelspec": {
   "display_name": "Python 3 (ipykernel)",
   "language": "python",
   "name": "python3"
  },
  "language_info": {
   "codemirror_mode": {
    "name": "ipython",
    "version": 3
   },
   "file_extension": ".py",
   "mimetype": "text/x-python",
   "name": "python",
   "nbconvert_exporter": "python",
   "pygments_lexer": "ipython3",
   "version": "3.8.10"
  }
 },
 "nbformat": 4,
 "nbformat_minor": 5
}
